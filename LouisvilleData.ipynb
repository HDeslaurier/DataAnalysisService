{
 "cells": [
  {
   "cell_type": "markdown",
   "id": "d51609eb-6b0b-4369-a82f-039073fde096",
   "metadata": {},
   "source": [
    "## Louisville Data Analysis "
   ]
  },
  {
   "cell_type": "markdown",
   "id": "f0f83641-b3ce-4569-8729-43cb8e240810",
   "metadata": {},
   "source": [
    "### Imports\n",
    "Import pandas, numpy, and matplot"
   ]
  },
  {
   "cell_type": "code",
   "execution_count": 161,
   "id": "24810f32-674f-4814-9ea7-c8e219a4ca66",
   "metadata": {},
   "outputs": [],
   "source": [
    "import pandas as pd\n",
    "import numpy as np\n",
    "import matplotlib.pyplot as plt"
   ]
  },
  {
   "cell_type": "markdown",
   "id": "28005a98-366a-4e94-b0b5-f5704563a854",
   "metadata": {},
   "source": [
    "### Set the Dataset Url"
   ]
  },
  {
   "cell_type": "code",
   "execution_count": 163,
   "id": "94bc1512-dca6-4754-8693-f08edb9c1114",
   "metadata": {},
   "outputs": [],
   "source": [
    "url = \"https://louisville-metro-opendata-lojic.hub.arcgis.com/datasets/LOJIC::louisville-metro-ky-parks-golf-sales-detail.csv\""
   ]
  },
  {
   "cell_type": "markdown",
   "id": "f0e8303a-f127-4691-bf23-45a973aa1688",
   "metadata": {},
   "source": [
    "### Setup a converter function in order to filter out non-selling items"
   ]
  },
  {
   "cell_type": "code",
   "execution_count": 165,
   "id": "8239a45b-2760-449f-9643-0152ec73734a",
   "metadata": {},
   "outputs": [],
   "source": [
    "def convert_num(x):\n",
    "    try:\n",
    "        x = np.float64(x)\n",
    "        return x\n",
    "    except:\n",
    "        return np.nan"
   ]
  },
  {
   "cell_type": "markdown",
   "id": "7807316b-6c43-4ec0-9f11-40d234692b9e",
   "metadata": {},
   "source": [
    "### Read in the dataset"
   ]
  },
  {
   "cell_type": "code",
   "execution_count": 167,
   "id": "a5015eb8-b5fd-4016-b6cc-52a6c1418484",
   "metadata": {},
   "outputs": [],
   "source": [
    "df = pd.read_csv(url,converters={\"ActualPrice\": convert_num, \"Quantity\": convert_num, \"SalesTax\": convert_num}, dtype={\"ObjectId\": int, \"CourseID\": int, \"CourseName\": \"string\", \"SaleID\": int, \"ItemID\": int, \"ItemDescription\": \"string\", \"LMPField\": \"string\"}, parse_dates=[\"SaleDate\",\"ReportDate\"])"
   ]
  },
  {
   "cell_type": "markdown",
   "id": "0457bb49-39e6-442c-8fb9-e5bf86b5b728",
   "metadata": {},
   "source": [
    "### Create a new sales column"
   ]
  },
  {
   "cell_type": "code",
   "execution_count": 168,
   "id": "7008b73c-b6da-4518-bd3e-9b36ebe45f2e",
   "metadata": {},
   "outputs": [
    {
     "data": {
      "text/html": [
       "<div>\n",
       "<style scoped>\n",
       "    .dataframe tbody tr th:only-of-type {\n",
       "        vertical-align: middle;\n",
       "    }\n",
       "\n",
       "    .dataframe tbody tr th {\n",
       "        vertical-align: top;\n",
       "    }\n",
       "\n",
       "    .dataframe thead th {\n",
       "        text-align: right;\n",
       "    }\n",
       "</style>\n",
       "<table border=\"1\" class=\"dataframe\">\n",
       "  <thead>\n",
       "    <tr style=\"text-align: right;\">\n",
       "      <th></th>\n",
       "      <th>ObjectId</th>\n",
       "      <th>CourseID</th>\n",
       "      <th>CourseName</th>\n",
       "      <th>SaleID</th>\n",
       "      <th>SaleDate</th>\n",
       "      <th>ReportDate</th>\n",
       "      <th>ItemID</th>\n",
       "      <th>ItemDescription</th>\n",
       "      <th>ActualPrice</th>\n",
       "      <th>Quantity</th>\n",
       "      <th>SalesTax</th>\n",
       "      <th>LMPField</th>\n",
       "      <th>Sales</th>\n",
       "    </tr>\n",
       "  </thead>\n",
       "  <tbody>\n",
       "    <tr>\n",
       "      <th>0</th>\n",
       "      <td>1</td>\n",
       "      <td>16</td>\n",
       "      <td>Seneca Golf Course</td>\n",
       "      <td>2540511</td>\n",
       "      <td>2015-12-26 12:24:59+00:00</td>\n",
       "      <td>2015-12-26 05:00:00+00:00</td>\n",
       "      <td>2738</td>\n",
       "      <td>WE Annual Green Fee</td>\n",
       "      <td>4.0</td>\n",
       "      <td>1.0</td>\n",
       "      <td>0.0</td>\n",
       "      <td>AdultFeeWAnnual</td>\n",
       "      <td>4.0</td>\n",
       "    </tr>\n",
       "    <tr>\n",
       "      <th>1</th>\n",
       "      <td>2</td>\n",
       "      <td>16</td>\n",
       "      <td>Seneca Golf Course</td>\n",
       "      <td>2540511</td>\n",
       "      <td>2015-12-26 12:24:59+00:00</td>\n",
       "      <td>2015-12-26 05:00:00+00:00</td>\n",
       "      <td>3370</td>\n",
       "      <td>Coffee</td>\n",
       "      <td>1.0</td>\n",
       "      <td>1.0</td>\n",
       "      <td>0.0</td>\n",
       "      <td>Food</td>\n",
       "      <td>1.0</td>\n",
       "    </tr>\n",
       "    <tr>\n",
       "      <th>2</th>\n",
       "      <td>3</td>\n",
       "      <td>16</td>\n",
       "      <td>Seneca Golf Course</td>\n",
       "      <td>2540512</td>\n",
       "      <td>2015-12-26 12:27:00+00:00</td>\n",
       "      <td>2015-12-26 05:00:00+00:00</td>\n",
       "      <td>3395</td>\n",
       "      <td>Tees - 50 Pack</td>\n",
       "      <td>3.0</td>\n",
       "      <td>1.0</td>\n",
       "      <td>0.0</td>\n",
       "      <td>Merchandise</td>\n",
       "      <td>3.0</td>\n",
       "    </tr>\n",
       "    <tr>\n",
       "      <th>3</th>\n",
       "      <td>4</td>\n",
       "      <td>16</td>\n",
       "      <td>Seneca Golf Course</td>\n",
       "      <td>2540513</td>\n",
       "      <td>2015-12-26 12:33:59+00:00</td>\n",
       "      <td>2015-12-26 05:00:00+00:00</td>\n",
       "      <td>3376</td>\n",
       "      <td>Crackers</td>\n",
       "      <td>0.0</td>\n",
       "      <td>1.0</td>\n",
       "      <td>0.0</td>\n",
       "      <td>Food</td>\n",
       "      <td>0.0</td>\n",
       "    </tr>\n",
       "    <tr>\n",
       "      <th>4</th>\n",
       "      <td>5</td>\n",
       "      <td>16</td>\n",
       "      <td>Seneca Golf Course</td>\n",
       "      <td>2540513</td>\n",
       "      <td>2015-12-26 12:33:59+00:00</td>\n",
       "      <td>2015-12-26 05:00:00+00:00</td>\n",
       "      <td>3370</td>\n",
       "      <td>Coffee</td>\n",
       "      <td>1.0</td>\n",
       "      <td>1.0</td>\n",
       "      <td>0.0</td>\n",
       "      <td>Food</td>\n",
       "      <td>1.0</td>\n",
       "    </tr>\n",
       "  </tbody>\n",
       "</table>\n",
       "</div>"
      ],
      "text/plain": [
       "   ObjectId  CourseID          CourseName   SaleID                  SaleDate  \\\n",
       "0         1        16  Seneca Golf Course  2540511 2015-12-26 12:24:59+00:00   \n",
       "1         2        16  Seneca Golf Course  2540511 2015-12-26 12:24:59+00:00   \n",
       "2         3        16  Seneca Golf Course  2540512 2015-12-26 12:27:00+00:00   \n",
       "3         4        16  Seneca Golf Course  2540513 2015-12-26 12:33:59+00:00   \n",
       "4         5        16  Seneca Golf Course  2540513 2015-12-26 12:33:59+00:00   \n",
       "\n",
       "                 ReportDate  ItemID      ItemDescription  ActualPrice  \\\n",
       "0 2015-12-26 05:00:00+00:00    2738  WE Annual Green Fee          4.0   \n",
       "1 2015-12-26 05:00:00+00:00    3370               Coffee          1.0   \n",
       "2 2015-12-26 05:00:00+00:00    3395       Tees - 50 Pack          3.0   \n",
       "3 2015-12-26 05:00:00+00:00    3376             Crackers          0.0   \n",
       "4 2015-12-26 05:00:00+00:00    3370               Coffee          1.0   \n",
       "\n",
       "   Quantity  SalesTax         LMPField  Sales  \n",
       "0       1.0       0.0  AdultFeeWAnnual    4.0  \n",
       "1       1.0       0.0             Food    1.0  \n",
       "2       1.0       0.0      Merchandise    3.0  \n",
       "3       1.0       0.0             Food    0.0  \n",
       "4       1.0       0.0             Food    1.0  "
      ]
     },
     "execution_count": 168,
     "metadata": {},
     "output_type": "execute_result"
    }
   ],
   "source": [
    "df[\"Sales\"] = df[\"ActualPrice\"] * df[\"Quantity\"]\n",
    "df.head()"
   ]
  },
  {
   "cell_type": "markdown",
   "id": "56b08840-0608-497d-b514-53c586d50b4e",
   "metadata": {},
   "source": [
    "### Determine total sales"
   ]
  },
  {
   "cell_type": "code",
   "execution_count": 187,
   "id": "6a8b41e0-6b40-4d3a-a24f-87fb348e5b6e",
   "metadata": {},
   "outputs": [
    {
     "data": {
      "text/plain": [
       "2305320.0"
      ]
     },
     "execution_count": 187,
     "metadata": {},
     "output_type": "execute_result"
    }
   ],
   "source": [
    "df[\"Sales\"].sum()"
   ]
  },
  {
   "cell_type": "markdown",
   "id": "9eaff510-03f2-4f49-b464-322060b0a9c7",
   "metadata": {},
   "source": [
    "### Determine which products sold the most by quanity"
   ]
  },
  {
   "cell_type": "code",
   "execution_count": 185,
   "id": "5ad6a014-a417-4a62-9546-2a6d2734a5ae",
   "metadata": {},
   "outputs": [
    {
     "data": {
      "text/html": [
       "<div>\n",
       "<style scoped>\n",
       "    .dataframe tbody tr th:only-of-type {\n",
       "        vertical-align: middle;\n",
       "    }\n",
       "\n",
       "    .dataframe tbody tr th {\n",
       "        vertical-align: top;\n",
       "    }\n",
       "\n",
       "    .dataframe thead th {\n",
       "        text-align: right;\n",
       "    }\n",
       "</style>\n",
       "<table border=\"1\" class=\"dataframe\">\n",
       "  <thead>\n",
       "    <tr style=\"text-align: right;\">\n",
       "      <th></th>\n",
       "      <th>Quantity</th>\n",
       "    </tr>\n",
       "    <tr>\n",
       "      <th>ItemID</th>\n",
       "      <th></th>\n",
       "    </tr>\n",
       "  </thead>\n",
       "  <tbody>\n",
       "    <tr>\n",
       "      <th>3454</th>\n",
       "      <td>13580.0</td>\n",
       "    </tr>\n",
       "    <tr>\n",
       "      <th>3380</th>\n",
       "      <td>7623.0</td>\n",
       "    </tr>\n",
       "    <tr>\n",
       "      <th>3680</th>\n",
       "      <td>7166.0</td>\n",
       "    </tr>\n",
       "    <tr>\n",
       "      <th>3356</th>\n",
       "      <td>5224.0</td>\n",
       "    </tr>\n",
       "    <tr>\n",
       "      <th>2746</th>\n",
       "      <td>4986.0</td>\n",
       "    </tr>\n",
       "    <tr>\n",
       "      <th>2032</th>\n",
       "      <td>4814.0</td>\n",
       "    </tr>\n",
       "    <tr>\n",
       "      <th>2741</th>\n",
       "      <td>4692.0</td>\n",
       "    </tr>\n",
       "    <tr>\n",
       "      <th>11544</th>\n",
       "      <td>4438.0</td>\n",
       "    </tr>\n",
       "    <tr>\n",
       "      <th>2102</th>\n",
       "      <td>3958.0</td>\n",
       "    </tr>\n",
       "    <tr>\n",
       "      <th>14369</th>\n",
       "      <td>3944.0</td>\n",
       "    </tr>\n",
       "  </tbody>\n",
       "</table>\n",
       "</div>"
      ],
      "text/plain": [
       "        Quantity\n",
       "ItemID          \n",
       "3454     13580.0\n",
       "3380      7623.0\n",
       "3680      7166.0\n",
       "3356      5224.0\n",
       "2746      4986.0\n",
       "2032      4814.0\n",
       "2741      4692.0\n",
       "11544     4438.0\n",
       "2102      3958.0\n",
       "14369     3944.0"
      ]
     },
     "execution_count": 185,
     "metadata": {},
     "output_type": "execute_result"
    }
   ],
   "source": [
    "df_group = df.groupby(\"ItemID\").sum(\"Quantity\").sort_values(\"Quantity\", ascending=False)[[\"Quantity\"]]\n",
    "df_group.head(10)"
   ]
  },
  {
   "cell_type": "markdown",
   "id": "8e945c34-e34c-4d03-bead-f6e5f23f709c",
   "metadata": {},
   "source": [
    "### Sales Trends by Month"
   ]
  },
  {
   "cell_type": "code",
   "execution_count": 191,
   "id": "1e6e13fc-c30a-4b6b-b0ce-b88b0adfb593",
   "metadata": {},
   "outputs": [
    {
     "data": {
      "image/png": "[encoded data removed]",
      "text/plain": [
       "<Figure size 640x480 with 1 Axes>"
      ]
     },
     "metadata": {},
     "output_type": "display_data"
    }
   ],
   "source": [
    "df['Year'] = df['SaleDate'].dt.year\n",
    "df['Month'] = df['SaleDate'].dt.month\n",
    "df['Day']  = df['SaleDate'].dt.day\n",
    "ax = df[['Month', 'Quantity', 'Sales']].groupby('Month').sum().plot(\n",
    "                                                                 title='Monthly Sales Trend', \n",
    "                                                                 ylabel='Sales',\n",
    "                                                                 );"
   ]
  }
 ],
 "metadata": {
  "kernelspec": {
   "display_name": "anaconda-panel-2023.05-py310",
   "language": "python",
   "name": "conda-env-anaconda-panel-2023.05-py310-py"
  },
  "language_info": {
   "codemirror_mode": {
    "name": "ipython",
    "version": 3
   },
   "file_extension": ".py",
   "mimetype": "text/x-python",
   "name": "python",
   "nbconvert_exporter": "python",
   "pygments_lexer": "ipython3",
   "version": "3.11.5"
  }
 },
 "nbformat": 4,
 "nbformat_minor": 5
}
